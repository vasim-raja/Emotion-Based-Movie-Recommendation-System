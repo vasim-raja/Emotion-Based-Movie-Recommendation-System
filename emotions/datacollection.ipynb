{
 "cells": [
  {
   "cell_type": "code",
   "execution_count": 1,
   "metadata": {},
   "outputs": [],
   "source": [
    "import mediapipe as mp \n",
    "import numpy as np \n",
    "import cv2 "
   ]
  },
  {
   "cell_type": "code",
   "execution_count": 5,
   "metadata": {},
   "outputs": [
    {
     "name": "stdout",
     "output_type": "stream",
     "text": [
      "Enter the name of the data : no\n",
      "(100, 1020)\n"
     ]
    }
   ],
   "source": [
    "cap = cv2.VideoCapture(0)\n",
    "\n",
    "name = input(\"Enter the name of the data : \")\n",
    "\n",
    "holistic = mp.solutions.holistic   #it will take the frame and gives all the facial key points(basicallly returns all the land marks of body)\n",
    "hands = mp.solutions.hands\n",
    "holis = holistic.Holistic()\n",
    "drawing = mp.solutions.drawing_utils#to show the visiuals\n",
    "\n",
    "X = [] #collection of all the rows\n",
    "data_size = 0\n",
    "\n",
    "while True:\n",
    "    lst = [] #row( one zero two zero columns of alll the landmarks of face,lefthand,right hand land marks)\n",
    "\n",
    "    _, frm = cap.read()\n",
    "\n",
    "    frm = cv2.flip(frm, 1) #flipping the frame to avoid mirror effect(flipping left to right)\n",
    "\n",
    "    res = holis.process(cv2.cvtColor(frm, cv2.COLOR_BGR2RGB)) #converting the frm to rgb\n",
    "    \n",
    "    if res.face_landmarks:\n",
    "        for i in res.face_landmarks.landmark:\n",
    "            lst.append(i.x - res.face_landmarks.landmark[1].x)\n",
    "            lst.append(i.y - res.face_landmarks.landmark[1].y)\n",
    "\n",
    "        if res.left_hand_landmarks:\n",
    "            for i in res.left_hand_landmarks.landmark:\n",
    "                lst.append(i.x - res.left_hand_landmarks.landmark[8].x)\n",
    "                lst.append(i.y - res.left_hand_landmarks.landmark[8].y)\n",
    "        else:\n",
    "            for i in range(42):\n",
    "                lst.append(0.0)\n",
    "\n",
    "        if res.right_hand_landmarks:\n",
    "            for i in res.right_hand_landmarks.landmark:\n",
    "                lst.append(i.x - res.right_hand_landmarks.landmark[8].x)\n",
    "                lst.append(i.y - res.right_hand_landmarks.landmark[8].y)\n",
    "        else:\n",
    "            for i in range(42):\n",
    "                lst.append(0.0)\n",
    "\n",
    "\n",
    "        X.append(lst)\n",
    "        data_size = data_size+1\n",
    "\n",
    "\n",
    "\n",
    "    drawing.draw_landmarks(frm, res.face_landmarks, holistic.FACEMESH_CONTOURS) # to draw the landmarks on frames\n",
    "    drawing.draw_landmarks(frm, res.left_hand_landmarks, hands.HAND_CONNECTIONS)\n",
    "    drawing.draw_landmarks(frm, res.right_hand_landmarks, hands.HAND_CONNECTIONS)\n",
    "    \n",
    "    cv2.putText(frm, str(data_size), (50,50), cv2.FONT_HERSHEY_SIMPLEX, 1, (0,255,0),2)\n",
    "\n",
    "    cv2.imshow(\"window\", frm)\n",
    "\n",
    "    if cv2.waitKey(1) == 27 or data_size>99:\n",
    "        cv2.destroyAllWindows()\n",
    "        cap.release()\n",
    "        break\n",
    "\n",
    "\n",
    "np.save(f\"{name}.npy\", np.array(X))\n",
    "print(np.array(X).shape)\n",
    "    "
   ]
  },
  {
   "cell_type": "code",
   "execution_count": null,
   "metadata": {},
   "outputs": [],
   "source": []
  },
  {
   "cell_type": "code",
   "execution_count": null,
   "metadata": {},
   "outputs": [],
   "source": []
  }
 ],
 "metadata": {
  "kernelspec": {
   "display_name": "Python 3",
   "language": "python",
   "name": "python3"
  },
  "language_info": {
   "codemirror_mode": {
    "name": "ipython",
    "version": 3
   },
   "file_extension": ".py",
   "mimetype": "text/x-python",
   "name": "python",
   "nbconvert_exporter": "python",
   "pygments_lexer": "ipython3",
   "version": "3.8.5"
  }
 },
 "nbformat": 4,
 "nbformat_minor": 4
}
