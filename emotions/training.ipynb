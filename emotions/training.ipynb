{
 "cells": [
  {
   "cell_type": "code",
   "execution_count": 1,
   "metadata": {},
   "outputs": [],
   "source": [
    "import os  \n",
    "import numpy as np \n",
    "import cv2 \n",
    "from tensorflow.keras.utils import to_categorical\n",
    "\n",
    "from keras.layers import Input, Dense \n",
    "from keras.models import Model"
   ]
  },
  {
   "cell_type": "code",
   "execution_count": 2,
   "metadata": {},
   "outputs": [
    {
     "name": "stdout",
     "output_type": "stream",
     "text": [
      ".ipynb_checkpoints\n",
      "datacollection.ipynb\n",
      "happy.npy\n",
      "hello.npy\n",
      "no.npy\n",
      "sad.npy\n",
      "training.ipynb\n"
     ]
    }
   ],
   "source": [
    "for i in os.listdir():\n",
    "    print(i)"
   ]
  },
  {
   "cell_type": "code",
   "execution_count": 6,
   "metadata": {},
   "outputs": [
    {
     "name": "stdout",
     "output_type": "stream",
     "text": [
      "(100, 1020)\n"
     ]
    }
   ],
   "source": [
    "is_init = False\n",
    "size = -1\n",
    "for i in os.listdir():\n",
    "    if i.split(\".\")[-1] == \"npy\":\n",
    "        if not(is_init):\n",
    "            is_init = True \n",
    "            X = np.load(i)\n",
    "            print(X.shape)\n",
    "            size = X.shape[0]\n",
    "            y = np.array([i.split('.')[0]]*size).reshape(-1,1)"
   ]
  },
  {
   "cell_type": "code",
   "execution_count": null,
   "metadata": {},
   "outputs": [],
   "source": []
  }
 ],
 "metadata": {
  "kernelspec": {
   "display_name": "Python 3",
   "language": "python",
   "name": "python3"
  },
  "language_info": {
   "codemirror_mode": {
    "name": "ipython",
    "version": 3
   },
   "file_extension": ".py",
   "mimetype": "text/x-python",
   "name": "python",
   "nbconvert_exporter": "python",
   "pygments_lexer": "ipython3",
   "version": "3.8.5"
  }
 },
 "nbformat": 4,
 "nbformat_minor": 4
}
